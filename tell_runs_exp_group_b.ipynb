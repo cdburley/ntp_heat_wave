{
 "cells": [
  {
   "cell_type": "markdown",
   "id": "9e071b84",
   "metadata": {
    "pycharm": {
     "name": "#%% md\n"
    }
   },
   "source": [
    "# TELL Runs for the National Transmission Planning (NTP) Project\n",
    "\n",
    "This notebook executes the initial set of runs of the TELL model for the NTP project."
   ]
  },
  {
   "cell_type": "code",
   "execution_count": 1,
   "id": "86db683a-70a2-4f89-a1d6-4c6d5f180272",
   "metadata": {
    "pycharm": {
     "name": "#%%\n"
    }
   },
   "outputs": [],
   "source": [
    "# Start by importing the TELL package and information about your operating system:\n",
    "import os \n",
    "import tell\n",
    "import sklearn\n",
    "\n",
    "import pandas as pd\n",
    "import matplotlib.pyplot as plt\n",
    "\n",
    "from tell.package_data import get_ba_abbreviations\n"
   ]
  },
  {
   "cell_type": "markdown",
   "id": "566fce96-4576-4a2d-9db6-4d0be72b3c1d",
   "metadata": {
    "pycharm": {
     "name": "#%% md\n"
    }
   },
   "source": [
    "## Set the Directory Structure"
   ]
  },
  {
   "cell_type": "code",
   "execution_count": 2,
   "id": "f7cc0f66-ba83-47d4-b161-0b1ad076064c",
   "metadata": {
    "pycharm": {
     "name": "#%%\n"
    }
   },
   "outputs": [],
   "source": [
    "# Identify the top-level directory and the subdirectory where the data will be stored:\n",
    "current_dir =  '/Users/burl878/Documents/IMMM/Data/TELL/Production_Runs'\n",
    "tell_data_dir = os.path.join(current_dir, r'tell_data')\n",
    "\n",
    "# If the \"tell_data_dir\" subdirectory doesn't exist then create it:\n",
    "if not os.path.exists(tell_data_dir):\n",
    "   os.makedirs(tell_data_dir)\n"
   ]
  },
  {
   "cell_type": "markdown",
   "id": "4a037554",
   "metadata": {
    "pycharm": {
     "name": "#%% md\n"
    }
   },
   "source": [
    "## Run the MLP Models"
   ]
  },
  {
   "cell_type": "code",
   "execution_count": null,
   "id": "76a6b851-29c9-4a1b-a149-ee341f1af5cd",
   "metadata": {
    "pycharm": {
     "name": "#%%\n"
    }
   },
   "outputs": [],
   "source": [
    "# Generate a list of BA abbreviations to process:\n",
    "ba_abbrev_list = tell.get_balancing_authority_to_model_dict().keys()\n",
    "\n",
    "scenario_to_process = 'historic'\n",
    "\n",
    "# Run the MLP prediction step for the list of BAs using parallel processing streams:\n",
    "for year_to_process in range(2005,2007,1):\n",
    "    pdf = tell.predict_batch(target_region_list = ba_abbrev_list,\n",
    "                             year = year_to_process,\n",
    "                             data_dir = os.path.join(tell_data_dir, r'wrf_to_tell_data', scenario_to_process),\n",
    "                             datetime_field_name = 'Time_UTC',\n",
    "                             save_prediction = True,\n",
    "                             prediction_output_directory = os.path.join(tell_data_dir, r'outputs', r'mlp_output', scenario_to_process),\n",
    "                             n_jobs = -1)\n"
   ]
  },
  {
   "cell_type": "markdown",
   "id": "f9048639",
   "metadata": {
    "pycharm": {
     "name": "#%% md\n"
    }
   },
   "source": [
    "## Run the Forward Execution"
   ]
  },
  {
   "cell_type": "code",
   "execution_count": 3,
   "id": "04afab9a",
   "metadata": {
    "pycharm": {
     "name": "#%%\n"
    }
   },
   "outputs": [
    {
     "name": "stdout",
     "output_type": "stream",
     "text": [
      "Start time =  2022-12-13 18:00:55.158418\n",
      "End time =  2022-12-13 18:02:04.376362\n",
      "Elapsed time =  0:01:09.218030\n"
     ]
    }
   ],
   "source": [
    "# Run the TELL model forward in time for a given year in five year increments out to 2100:\n",
    "for year in range(2006,2007,1):\n",
    "    summary_df, ba_time_series_df, state_time_series_df = tell.execute_forward(year_to_process = str(year),\n",
    "                                                                               gcam_target_year = str(year), \n",
    "                                                                               scenario_to_process = 'historic',\n",
    "                                                                               data_output_dir = '/Users/burl878/Documents/IMMM/Data/TELL/Production_Runs/tell_data/outputs/tell_output',\n",
    "                                                                               gcam_usa_input_dir = '/Users/burl878/Documents/IMMM/Data/TELL/Production_Runs/tell_data/gcamusa_data',\n",
    "                                                                               map_input_dir = '/Users/burl878/Documents/IMMM/Data/TELL/Production_Runs/tell_data/ba_service_territory_data',\n",
    "                                                                               mlp_input_dir = '/Users/burl878/Documents/IMMM/Data/TELL/Production_Runs/tell_data/outputs/mlp_output',\n",
    "                                                                               pop_input_dir = '/Users/burl878/Documents/IMMM/Data/TELL/Production_Runs/tell_data/population_data',\n",
    "                                                                               save_county_data = False)\n"
   ]
  },
  {
   "cell_type": "code",
   "execution_count": null,
   "id": "d7eb0d8d-9d4b-452d-a747-7b8141eeac27",
   "metadata": {},
   "outputs": [],
   "source": [
    "import glob\n",
    "import datetime\n",
    "\n",
    "import numpy as np\n",
    "import pandas as pd\n",
    "\n",
    "from pandas import DataFrame\n",
    "from scipy import interpolate\n",
    "from tell.states_fips_function import state_metadata_from_state_abbreviation\n"
   ]
  },
  {
   "cell_type": "code",
   "execution_count": null,
   "id": "c843d650-5e5b-4b34-b6ba-7755c43afe86",
   "metadata": {},
   "outputs": [],
   "source": [
    "year_to_process = '2006'\n",
    "gcam_target_year = '2006' \n",
    "scenario_to_process = 'historic'\n",
    "data_output_dir = '/Users/burl878/Documents/IMMM/Data/TELL/Production_Runs/tell_data/outputs/tell_output'\n",
    "gcam_usa_input_dir = '/Users/burl878/Documents/IMMM/Data/TELL/Production_Runs/tell_data/gcamusa_data'\n",
    "map_input_dir = '/Users/burl878/Documents/IMMM/Data/TELL/Production_Runs/tell_data/ba_service_territory_data'\n",
    "mlp_input_dir = '/Users/burl878/Documents/IMMM/Data/TELL/Production_Runs/tell_data/outputs/mlp_output'\n",
    "pop_input_dir = '/Users/burl878/Documents/IMMM/Data/TELL/Production_Runs/tell_data/population_data'\n",
    "save_county_data = False\n"
   ]
  },
  {
   "cell_type": "code",
   "execution_count": null,
   "id": "24964a47-1858-44fd-9dc6-bf5c03044406",
   "metadata": {},
   "outputs": [],
   "source": [
    "# Load in the sample GCAM-USA output file and subset the data to only the \"year_to_process\":\n",
    "gcam_usa_df = tell.extract_gcam_usa_loads(scenario_to_process = scenario_to_process, \n",
    "                                          filename = (os.path.join(gcam_usa_input_dir, 'gcamDataTable_aggParam.csv')))\n",
    "    \n",
    "gcam_usa_df = gcam_usa_df[gcam_usa_df['Year'] == int(gcam_target_year)]\n",
    "\n",
    "# Load in the most recent (i.e., 2019) BA service territory mapping file:\n",
    "ba_mapping_df = pd.read_csv((os.path.join(map_input_dir, 'ba_service_territory_2019.csv')), index_col=None, header=0)\n",
    "\n",
    "# Read in the sample population projection dataset for the scenario being processed:\n",
    "population_df = tell.process_population_scenario(scenario_to_process, pop_input_dir)\n",
    "\n",
    "# Subset to only the year being processed:\n",
    "if (scenario_to_process == 'historic') and (int(year_to_process) < 2000):\n",
    "    population_df = population_df.loc[(population_df['Year'] == 2000)]\n",
    "else:\n",
    "    population_df = population_df.loc[(population_df['Year'] == int(year_to_process))]\n",
    "\n",
    "population_df\n"
   ]
  },
  {
   "cell_type": "code",
   "execution_count": null,
   "id": "7688ec75-5a58-4385-9edf-77c85df27143",
   "metadata": {},
   "outputs": [],
   "source": []
  }
 ],
 "metadata": {
  "kernelspec": {
   "display_name": "py3.9.15_std",
   "language": "python",
   "name": "py3.9.15_std"
  },
  "language_info": {
   "codemirror_mode": {
    "name": "ipython",
    "version": 3
   },
   "file_extension": ".py",
   "mimetype": "text/x-python",
   "name": "python",
   "nbconvert_exporter": "python",
   "pygments_lexer": "ipython3",
   "version": "3.9.15"
  }
 },
 "nbformat": 4,
 "nbformat_minor": 5
}
