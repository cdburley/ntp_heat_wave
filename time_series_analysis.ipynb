{
 "cells": [
  {
   "cell_type": "markdown",
   "id": "9e071b84",
   "metadata": {},
   "source": [
    "# Time Series Analysis of July 2006 Heat Wave\n",
    "\n",
    "This notebook processes and makes plots of the temporal evolution of meteorology during the course of the July 2006 heat wave in the western U.S."
   ]
  },
  {
   "cell_type": "code",
   "execution_count": 47,
   "id": "86db683a-70a2-4f89-a1d6-4c6d5f180272",
   "metadata": {},
   "outputs": [],
   "source": [
    "# Start by importing required packages and information about your operating system:\n",
    "import os \n",
    "\n",
    "import pandas as pd\n",
    "\n",
    "from glob import glob\n"
   ]
  },
  {
   "cell_type": "markdown",
   "id": "566fce96-4576-4a2d-9db6-4d0be72b3c1d",
   "metadata": {},
   "source": [
    "## Set the Directory Structure"
   ]
  },
  {
   "cell_type": "code",
   "execution_count": 2,
   "id": "f7cc0f66-ba83-47d4-b161-0b1ad076064c",
   "metadata": {},
   "outputs": [],
   "source": [
    "# Identify the top-level data input and output directories:\n",
    "data_input_dir =  '/Volumes/LaCie/wrf_to_tell/wrf_tell_counties_output'\n",
    "data_output_dir =  '/Users/burl878/Documents/code_repos/ntp_heat_wave/data'\n",
    "\n",
    "# If the \"data_output_dir\" subdirectory doesn't exist then create it:\n",
    "if not os.path.exists(data_output_dir):\n",
    "   os.makedirs(data_output_dir)\n"
   ]
  },
  {
   "cell_type": "markdown",
   "id": "4a037554",
   "metadata": {},
   "source": [
    "## Process the Population-Weighted Time Series:"
   ]
  },
  {
   "cell_type": "code",
   "execution_count": 40,
   "id": "3e65da4e-65d6-4cfb-ba20-a15612b51047",
   "metadata": {},
   "outputs": [],
   "source": [
    "# Define a function to convert from Kelvin to Fahrenheit:\n",
    "def kelvin_to_farenheight(temperature_K: int):\n",
    "    temperature_F = (1.8*(temperature_K - 273) + 32).round(2)\n",
    "    return temperature_F\n"
   ]
  },
  {
   "cell_type": "code",
   "execution_count": 50,
   "id": "76a6b851-29c9-4a1b-a149-ee341f1af5cd",
   "metadata": {},
   "outputs": [
    {
     "ename": "TypeError",
     "evalue": "glob() takes 1 positional argument but 2 were given",
     "output_type": "error",
     "traceback": [
      "\u001b[0;31m---------------------------------------------------------------------------\u001b[0m",
      "\u001b[0;31mTypeError\u001b[0m                                 Traceback (most recent call last)",
      "\u001b[0;32m/var/folders/2x/xdz7fwts5fj0gdl0b7lbtc_cbqnqwx/T/ipykernel_12873/3137617816.py\u001b[0m in \u001b[0;36m<module>\u001b[0;34m\u001b[0m\n\u001b[1;32m     86\u001b[0m     \u001b[0;32mreturn\u001b[0m \u001b[0mfilelist\u001b[0m\u001b[0;34m\u001b[0m\u001b[0;34m\u001b[0m\u001b[0m\n\u001b[1;32m     87\u001b[0m \u001b[0;34m\u001b[0m\u001b[0m\n\u001b[0;32m---> 88\u001b[0;31m \u001b[0ma\u001b[0m \u001b[0;34m=\u001b[0m \u001b[0mprocess_met_time_series\u001b[0m\u001b[0;34m(\u001b[0m\u001b[0mdata_input_dir\u001b[0m \u001b[0;34m=\u001b[0m \u001b[0mdata_input_dir\u001b[0m\u001b[0;34m,\u001b[0m \u001b[0myear_to_process\u001b[0m \u001b[0;34m=\u001b[0m \u001b[0myear_to_process\u001b[0m\u001b[0;34m,\u001b[0m \u001b[0mscenario_to_process\u001b[0m \u001b[0;34m=\u001b[0m \u001b[0mscenario_to_process\u001b[0m\u001b[0;34m)\u001b[0m\u001b[0;34m\u001b[0m\u001b[0;34m\u001b[0m\u001b[0m\n\u001b[0m\u001b[1;32m     89\u001b[0m \u001b[0;34m\u001b[0m\u001b[0m\n\u001b[1;32m     90\u001b[0m \u001b[0ma\u001b[0m\u001b[0;34m\u001b[0m\u001b[0;34m\u001b[0m\u001b[0m\n",
      "\u001b[0;32m/var/folders/2x/xdz7fwts5fj0gdl0b7lbtc_cbqnqwx/T/ipykernel_12873/3137617816.py\u001b[0m in \u001b[0;36mprocess_met_time_series\u001b[0;34m(data_input_dir, year_to_process, scenario_to_process)\u001b[0m\n\u001b[1;32m     19\u001b[0m \u001b[0;34m\u001b[0m\u001b[0m\n\u001b[1;32m     20\u001b[0m \u001b[0;34m\u001b[0m\u001b[0m\n\u001b[0;32m---> 21\u001b[0;31m     \u001b[0mfilelist\u001b[0m \u001b[0;34m=\u001b[0m \u001b[0mglob\u001b[0m\u001b[0;34m(\u001b[0m\u001b[0mmet_data_dir\u001b[0m\u001b[0;34m,\u001b[0m \u001b[0;34m'*.csv'\u001b[0m\u001b[0;34m)\u001b[0m\u001b[0;34m\u001b[0m\u001b[0;34m\u001b[0m\u001b[0m\n\u001b[0m\u001b[1;32m     22\u001b[0m \u001b[0;34m\u001b[0m\u001b[0m\n\u001b[1;32m     23\u001b[0m \u001b[0;34m\u001b[0m\u001b[0m\n",
      "\u001b[0;31mTypeError\u001b[0m: glob() takes 1 positional argument but 2 were given"
     ]
    }
   ],
   "source": [
    "# Set the year and scenario to process:\n",
    "year_to_process = 2006\n",
    "scenario_to_process = 'historic'\n",
    "\n",
    "# Define function to process the population-weighted time series for a given year and scenario:\n",
    "def process_met_time_series(data_input_dir: str, year_to_process: int, scenario_to_process: str):\n",
    "    \n",
    "    # Read in the historical population file:\n",
    "    pop_df = pd.read_csv(os.path.join(data_output_dir, 'county_populations_2000_to_2020.csv'))\n",
    "    \n",
    "    # Rename some columns:\n",
    "    pop_df.rename(columns={'pop_2006': 'Population','state_name': 'State', 'county_name': 'County', 'county_FIPS': 'FIPS'}, inplace=True)\n",
    "    \n",
    "    # Only keep the columns that are needed:\n",
    "    pop_df = pop_df[['State', 'County', 'FIPS', 'Population']].copy()\n",
    "    \n",
    "    # Set the data input directory:\n",
    "    met_data_dir = os.path.join(data_input_dir, scenario_to_process, str(year_to_process))\n",
    "\n",
    "    \n",
    "    filelist = glob(met_data_dir, '*.csv')\n",
    "    \n",
    "    \n",
    "    # Set a filename for testing:\n",
    "    file = '2006_01_01_00_UTC_County_Mean_Meteorology.csv'\n",
    "    \n",
    "    # Extract the time string from the name of the file:\n",
    "    file_time = file.replace(\"_UTC_County_Mean_Meteorology.csv\", \"\")\n",
    "\n",
    "    # Read in the .csv file:\n",
    "    met_df = pd.read_csv(os.path.join(met_data_dir, file))\n",
    "\n",
    "    # Only keep the columns that are needed:\n",
    "    met_df = met_df[['FIPS', 'T2']].copy()\n",
    "    \n",
    "    # Merge the dataframes based on county FIPS code :\n",
    "    df_combined = pd.merge(met_df, pop_df, how='left', on=['FIPS'])\n",
    "    \n",
    "    # Subset to only counties in the WECC:\n",
    "    wecc_df = df_combined.loc[df_combined['State'].isin(['Washington', 'Oregon', 'California', 'Montana', 'Idaho', 'Nevada', 'Arizona', 'New Mexico', 'Colorado', 'Utah', 'Wyoming'])].copy()\n",
    "    \n",
    "    # Calculate the total population in the WECC:\n",
    "    wecc_total_population = wecc_df['Population'].sum()\n",
    "    \n",
    "    # Calculate the fraction of the total population that lives in each county:\n",
    "    wecc_df['Population_Fraction'] = wecc_df['Population'] / wecc_total_population\n",
    "    \n",
    "    # Calculate population-weighted mean temperature in the WECC:\n",
    "    wecc_mean_temperature = (wecc_df['T2'] * wecc_df['Population_Fraction']).sum().round(2)\n",
    "    \n",
    "    # Subset to only counties in California:\n",
    "    ca_df = df_combined.loc[df_combined['State'].isin(['California'])].copy()\n",
    "    \n",
    "    # Calculate the total population in the California:\n",
    "    ca_total_population = ca_df['Population'].sum()\n",
    "    \n",
    "    # Calculate the fraction of the total population that lives in each county:\n",
    "    ca_df['Population_Fraction'] = ca_df['Population'] / ca_total_population\n",
    "    \n",
    "    # Calculate population-weighted mean temperature in the California:\n",
    "    ca_mean_temperature = (ca_df['T2'] * ca_df['Population_Fraction']).sum().round(2)\n",
    "    \n",
    "    # Calculate the total population in the U.S.:\n",
    "    us_total_population = df_combined['Population'].sum()\n",
    "    \n",
    "    # Calculate the fraction of the total population that lives in each county:\n",
    "    df_combined['Population_Fraction'] = df_combined['Population'] / us_total_population\n",
    "    \n",
    "    # Calculate population-weighted mean temperature in the U.S.:\n",
    "    us_mean_temperature = (df_combined['T2'] * df_combined['Population_Fraction']).sum().round(2)\n",
    "    \n",
    "    # Subset to only Los Angeles county:\n",
    "    la_df = df_combined.loc[df_combined['FIPS'] == 6037].copy()\n",
    "    \n",
    "    # Extract the temperature value for Los Angeles county:\n",
    "    la_mean_temperature = la_df['T2'].sum().round(2)\n",
    "    \n",
    "    # Initiate an empty dataframe and counter to store the results:\n",
    "    output_df = pd.DataFrame()\n",
    "    output_df.loc[0, 'Time_UTC'] = pd.to_datetime(file_time, exact=False, format='%Y_%m_%d_%H')\n",
    "    output_df.loc[0, 'US_T2_F'] = kelvin_to_farenheight(us_mean_temperature)\n",
    "    output_df.loc[0, 'WECC_T2_F'] = kelvin_to_farenheight(wecc_mean_temperature)\n",
    "    output_df.loc[0, 'CA_T2_F'] = kelvin_to_farenheight(ca_mean_temperature)\n",
    "    output_df.loc[0, 'LA_T2_F'] = kelvin_to_farenheight(la_mean_temperature)\n",
    "    \n",
    "    return filelist\n",
    "    \n",
    "a = process_met_time_series(data_input_dir = data_input_dir, year_to_process = year_to_process, scenario_to_process = scenario_to_process)\n",
    "\n",
    "a\n"
   ]
  },
  {
   "cell_type": "code",
   "execution_count": null,
   "id": "6c71a62a-7fba-4209-9d66-083ca0073534",
   "metadata": {},
   "outputs": [],
   "source": []
  }
 ],
 "metadata": {
  "kernelspec": {
   "display_name": "py3.9.4_tell",
   "language": "python",
   "name": "py3.9.4_tell"
  },
  "language_info": {
   "codemirror_mode": {
    "name": "ipython",
    "version": 3
   },
   "file_extension": ".py",
   "mimetype": "text/x-python",
   "name": "python",
   "nbconvert_exporter": "python",
   "pygments_lexer": "ipython3",
   "version": "3.9.4"
  }
 },
 "nbformat": 4,
 "nbformat_minor": 5
}
